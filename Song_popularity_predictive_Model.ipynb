{
  "nbformat": 4,
  "nbformat_minor": 0,
  "metadata": {
    "colab": {
      "provenance": [],
      "authorship_tag": "ABX9TyPAqp0POtUhp/tRNnUeGofA",
      "include_colab_link": true
    },
    "kernelspec": {
      "name": "python3",
      "display_name": "Python 3"
    },
    "language_info": {
      "name": "python"
    }
  },
  "cells": [
    {
      "cell_type": "markdown",
      "metadata": {
        "id": "view-in-github",
        "colab_type": "text"
      },
      "source": [
        "<a href=\"https://colab.research.google.com/github/nikitakandpal/ML-projects/blob/main/Song_popularity_predictive_Model.ipynb\" target=\"_parent\"><img src=\"https://colab.research.google.com/assets/colab-badge.svg\" alt=\"Open In Colab\"/></a>"
      ]
    },
    {
      "cell_type": "code",
      "execution_count": 1,
      "metadata": {
        "id": "31s49oVRZiqE"
      },
      "outputs": [],
      "source": [
        "import pandas as pd\n",
        "import numpy as np\n",
        "import matplotlib.pyplot as plt\n",
        "import seaborn as sns"
      ]
    },
    {
      "cell_type": "code",
      "source": [
        "data = pd.read_csv(\"song_data.csv\")"
      ],
      "metadata": {
        "id": "ID73dAoOZqG2"
      },
      "execution_count": 2,
      "outputs": []
    },
    {
      "cell_type": "code",
      "source": [
        "data.info()"
      ],
      "metadata": {
        "colab": {
          "base_uri": "https://localhost:8080/"
        },
        "id": "bRly-f6tZ52B",
        "outputId": "07258d62-53d6-4835-8ed2-d4b5f3d74448"
      },
      "execution_count": 3,
      "outputs": [
        {
          "output_type": "stream",
          "name": "stdout",
          "text": [
            "<class 'pandas.core.frame.DataFrame'>\n",
            "RangeIndex: 18835 entries, 0 to 18834\n",
            "Data columns (total 15 columns):\n",
            " #   Column            Non-Null Count  Dtype  \n",
            "---  ------            --------------  -----  \n",
            " 0   song_name         18835 non-null  object \n",
            " 1   song_popularity   18835 non-null  int64  \n",
            " 2   song_duration_ms  18835 non-null  int64  \n",
            " 3   acousticness      18835 non-null  float64\n",
            " 4   danceability      18835 non-null  float64\n",
            " 5   energy            18835 non-null  float64\n",
            " 6   instrumentalness  18835 non-null  float64\n",
            " 7   key               18835 non-null  int64  \n",
            " 8   liveness          18835 non-null  float64\n",
            " 9   loudness          18835 non-null  float64\n",
            " 10  audio_mode        18835 non-null  int64  \n",
            " 11  speechiness       18835 non-null  float64\n",
            " 12  tempo             18835 non-null  float64\n",
            " 13  time_signature    18835 non-null  int64  \n",
            " 14  audio_valence     18835 non-null  float64\n",
            "dtypes: float64(9), int64(5), object(1)\n",
            "memory usage: 2.2+ MB\n"
          ]
        }
      ]
    },
    {
      "cell_type": "code",
      "source": [
        "for col in data.columns:\n",
        "  print(col, ':',len(data[col].unique()), 'labels')"
      ],
      "metadata": {
        "colab": {
          "base_uri": "https://localhost:8080/"
        },
        "id": "4eydHbJZaCBb",
        "outputId": "952ee614-f140-4ed3-d6ec-830d2ce62a7e"
      },
      "execution_count": 4,
      "outputs": [
        {
          "output_type": "stream",
          "name": "stdout",
          "text": [
            "song_name : 13070 labels\n",
            "song_popularity : 101 labels\n",
            "song_duration_ms : 11771 labels\n",
            "acousticness : 3209 labels\n",
            "danceability : 849 labels\n",
            "energy : 1132 labels\n",
            "instrumentalness : 3925 labels\n",
            "key : 12 labels\n",
            "liveness : 1425 labels\n",
            "loudness : 8416 labels\n",
            "audio_mode : 2 labels\n",
            "speechiness : 1224 labels\n",
            "tempo : 12112 labels\n",
            "time_signature : 5 labels\n",
            "audio_valence : 1246 labels\n"
          ]
        }
      ]
    }
  ]
}